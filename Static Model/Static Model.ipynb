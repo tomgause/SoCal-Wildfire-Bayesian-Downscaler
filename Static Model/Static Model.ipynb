{
 "cells": [
  {
   "cell_type": "markdown",
   "metadata": {},
   "source": []
  },
  {
   "cell_type": "markdown",
   "metadata": {},
   "source": [
    "This Static Model takes the CMAQ data as input and generates .npy downscaled data based on the given resolution which can be edited below. This resolution MUST be a multiple of 356."
   ]
  },
  {
   "cell_type": "code",
   "execution_count": 1,
   "metadata": {},
   "outputs": [],
   "source": [
    "import numpy as np\n",
    "import math\n",
    "import os.path\n",
    "from os import path\n",
    "import pandas as pd\n",
    "from scipy.spatial.distance import cdist\n",
    "from scipy.stats import invgamma\n",
    "\n",
    "%matplotlib inline\n",
    "\n",
    "global resolution\n",
    "global w_h\n",
    "global s\n",
    "global date\n",
    "\n",
    "# 356x356 km grid\n",
    "resolution = 2            # default: 4 km resolution\n",
    "w_h = int(356/resolution) # default: 89x89 grid\n",
    "s = int(w_h**2)           # default: 7921 sites\n",
    "date = '12/30/16'           # default: 1/1/16\n",
    "\n",
    "data = list(range(s))\n",
    "coords_toCMAQ = list(range(s))\n",
    "\n",
    "def progressBar(current, total, barLength):\n",
    "    percent = float(current) * 100 / total\n",
    "    arrow   = '-' * int(percent/100 * barLength - 1) + '>'\n",
    "    spaces  = ' ' * (barLength - len(arrow))\n",
    "\n",
    "    print('Progress: [%s%s] %d %%' % (arrow, spaces, percent), end='\\r')"
   ]
  },
  {
   "cell_type": "markdown",
   "metadata": {},
   "source": [
    "Estimations below are derived from Berrocal et. al trace plots.\n",
    "We assume the multiplicative bias of the numerical model output is constant in space.\n",
    "Thus, in fitting the static downscalter, we set the local adjustment Beta_1(s) to zero."
   ]
  },
  {
   "cell_type": "code",
   "execution_count": 2,
   "metadata": {},
   "outputs": [],
   "source": [
    "#overall additive and multiplicative bias of CMAQ\n",
    "beta_0, beta_1 = 3.2, 0.5\n",
    "\n",
    "#nugget variance for white noise process\n",
    "tau_2 = 0.10\n",
    "\n",
    "#spatial decay parameter for Gaussian process wj(s)\n",
    "phi_0 = .003\n",
    "\n",
    "#relevant elements of matrix A\n",
    "A_11 = 1.1\n",
    "#this will be the value we predict in our model"
   ]
  },
  {
   "cell_type": "markdown",
   "metadata": {},
   "source": [
    "First, we define the Gaussian Process for the model. This can take a LONG time since the covariance matrix is s^2/s^2, so we have the ability to load a previous matrix as an .npy file and we always save our new one."
   ]
  },
  {
   "cell_type": "code",
   "execution_count": 3,
   "metadata": {},
   "outputs": [],
   "source": [
    "def kernel(phi=-.003):\n",
    "    \"\"\"\n",
    "    Exponential kernel with spatial decay parameter phi.\n",
    "    Default resolution=4km, i.e. 89x89 grid.\n",
    "    \"\"\"\n",
    "    \n",
    "    global resolution\n",
    "    global w_h\n",
    "    global s\n",
    "    \n",
    "    # checks for saved covariance matrix\n",
    "    if path.exists(\"covariance_\" + str(resolution) + \".npy\"):\n",
    "        with open(\"covariance_\" + str(resolution) + \".npy\", 'rb') as f:\n",
    "            c = np.load(f, allow_pickle=False)\n",
    "            return c\n",
    "\n",
    "    # generates covariance matrix\n",
    "    \n",
    "    print(\"Generating coordinates for %d sites...\" % (s))\n",
    "    s_coords = [[0 for i in range(w_h)] for j in range(w_h)] \n",
    "    for x in range(w_h):\n",
    "        for y in range(w_h):\n",
    "            s_coords[x][y] = [x, y]     \n",
    "    \n",
    "    print(\"Generating %s x %s empty matrix...\" % (s, s))\n",
    "    cov = list(range(s))\n",
    "    for i in range(s):\n",
    "        progressBar(i, s, barLength = 80)\n",
    "        cov[i] = list(range(s))\n",
    "        \n",
    "    print(\"Generating %s x %s covariance matrix...\" % (s, s))\n",
    "    for y in range(s):\n",
    "        progressBar(y, s, barLength = 80)\n",
    "        for x in range(s):\n",
    "            cov[x][y] = np.exp(phi * math.sqrt((s_coords[y%w_h][y//w_h][0] - s_coords[x%w_h][x//w_h][0])**2 + \\\n",
    "                                               (s_coords[y%w_h][y//w_h][1] - s_coords[x%w_h][x//w_h][1])**2))\n",
    "    \n",
    "    # saves and returns new covariance matrix\n",
    "    with open(\"covariance_\" + str(resolution) + \".npy\", 'wb') as f:\n",
    "        np.save(f, cov, allow_pickle=False)\n",
    "        return cov"
   ]
  },
  {
   "cell_type": "markdown",
   "metadata": {},
   "source": [
    "Now we can generate a s-sized sample from the multivariate normal. Similar to the covariance matrix, this can take a long time, so we include the ability to load or save."
   ]
  },
  {
   "cell_type": "code",
   "execution_count": 4,
   "metadata": {},
   "outputs": [
    {
     "name": "stdout",
     "output_type": "stream",
     "text": [
      "Generating sample...\n"
     ]
    },
    {
     "name": "stderr",
     "output_type": "stream",
     "text": [
      "<ipython-input-4-21a546e71798>:12: RuntimeWarning: covariance is not positive-semidefinite.\n",
      "  sample = np.random.multivariate_normal(mu, cov, 1)\n"
     ]
    }
   ],
   "source": [
    "# checks for saved sample\n",
    "if path.exists(\"sample_\" + str(resolution) + \".npy\"):\n",
    "    with open(\"sample_\" + str(resolution) + \".npy\", 'rb') as f:\n",
    "        sample = np.load(f, allow_pickle=False)\n",
    "\n",
    "# otherwise, generates new sample\n",
    "else:\n",
    "    with open(\"sample_\" + str(resolution) + \".npy\", 'wb') as f:\n",
    "        mu = np.zeros(s)\n",
    "        cov = kernel()\n",
    "        print(\"Generating sample...\")\n",
    "        sample = np.random.multivariate_normal(mu, cov, 1)\n",
    "        sample = sample[0]\n",
    "        np.save(f, sample, allow_pickle=False)"
   ]
  },
  {
   "cell_type": "markdown",
   "metadata": {},
   "source": [
    "Now we can start to work with the CMAQ data."
   ]
  },
  {
   "cell_type": "code",
   "execution_count": 5,
   "metadata": {},
   "outputs": [],
   "source": [
    "# import and clean dataset\n",
    "CMAQ_data = pd.read_csv('California_CMAQ_PM2.5_Output_all.csv', \\\n",
    "                         usecols = ['Date','Latitude', 'Longitude', 'PM'])\n",
    "\n",
    "# extracts data from chosen date\n",
    "data_start = 0\n",
    "data_end = 0\n",
    "while CMAQ_data.Date[data_start] != date:\n",
    "    data_start += 1\n",
    "data_end = data_start\n",
    "while CMAQ_data.Date[data_end] == date:\n",
    "    data_end += 1\n",
    "data_start += -1\n",
    "    \n",
    "CMAQ_data = CMAQ_data.drop(list(range(data_end+1,673251)))\n",
    "CMAQ_data = CMAQ_data.drop(list(range(0,data_start)))\n",
    "\n",
    "# organizes data further\n",
    "CMAQ_data = {'Lat': CMAQ_data.Latitude,\n",
    "             'Long': CMAQ_data.Longitude,\n",
    "             'PM': CMAQ_data.PM}\n",
    "\n",
    "# saves PM data length (this will be important soon)\n",
    "PM_data_length = len(CMAQ_data['PM'])\n",
    "\n",
    "\"\"\" FOR TESTING\n",
    "print(PM_data_length)\n",
    "print(len(CMAQ_data['Long']))\n",
    "print(len(CMAQ_data['Lat']))\n",
    "print(CMAQ_data['Long'][j])\n",
    "\"\"\"\n",
    "\n",
    "# and even further\n",
    "CMAQ_coords = list(range(PM_data_length-1))\n",
    "for a in range(data_start, data_end):\n",
    "    CMAQ_coords[a-data_start] = [CMAQ_data['Long'][a], CMAQ_data['Lat'][a]]"
   ]
  },
  {
   "cell_type": "markdown",
   "metadata": {},
   "source": [
    "We need to bind each site to a CMAQ sampling site. First, we must find the coordinates of each site. Then we can find each site's matching CMAQ sampling site. We do this in the slightly terrible method seen below."
   ]
  },
  {
   "cell_type": "code",
   "execution_count": 6,
   "metadata": {},
   "outputs": [],
   "source": [
    "# lat: 35.0, 38.2, diff 3.2\n",
    "# long: -121.7, -117.79, diff 3.91'\n",
    "for y in range(w_h):\n",
    "    for x in range(w_h):\n",
    "\n",
    "        # assign longitudes and latitudes to each site\n",
    "        coords_toCMAQ[x + w_h*y] = [[-117.79 - x * (0.011189 * resolution), 35 + y * (.008994 * resolution)]]\n",
    "\n",
    "with open(\"coords_\" + str(resolution) + \".npy\", 'wb') as f:\n",
    "    np.save(f, coords_toCMAQ)# allow_pickle=False)\n",
    "\n",
    "# locates nearest CMAQ sampling site, replaces coords_toCMAQ lat/long data with PM2.5 data \n",
    "# from this nearest sampling site.\n",
    "for y in range(w_h):\n",
    "    #progressBar(y, w_h, barLength = 80)\n",
    "    for x in range(w_h):\n",
    "        distances = []\n",
    "\n",
    "        distances = cdist(coords_toCMAQ[x + w_h*y], CMAQ_coords, 'euclidean')\n",
    "        coords_toCMAQ[x + w_h*y] = CMAQ_data['PM'][np.argmin(distances) + data_start]"
   ]
  },
  {
   "cell_type": "markdown",
   "metadata": {},
   "source": [
    "Finally, we can put all the pieces together."
   ]
  },
  {
   "cell_type": "code",
   "execution_count": 7,
   "metadata": {},
   "outputs": [],
   "source": [
    "# generates noise\n",
    "noise = np.random.normal(0, 0.10, s)\n",
    "\n",
    "# final model\n",
    "for i in range(s):\n",
    "    data[i] = (beta_0 + A_11 * sample[i] + beta_1 * math.sqrt(coords_toCMAQ[i]) + noise[i])**2\n",
    "\n",
    "# saves data\n",
    "with open(\"data_\" + str(resolution) + \".npy\", 'wb') as f:\n",
    "        np.save(f, data, allow_pickle=False)"
   ]
  },
  {
   "cell_type": "code",
   "execution_count": 8,
   "metadata": {},
   "outputs": [
    {
     "name": "stdout",
     "output_type": "stream",
     "text": [
      "[20.83730532990872, 20.43970219436185, 21.8036721347045, 23.658443256836524, 22.63382556127829, 23.647989642820296, 21.97681157782389, 22.010476244091283, 22.824253685228577, 22.152377371171998, 19.897204122562083, 23.207734871247997, 21.527182117304694, 22.71203441069201, 22.376178305939476, 21.413070564513912, 21.903721580516695, 22.090906568238342, 21.242233881079827, 22.199741225019796, 21.90021851479127, 20.70541114978971, 21.795910431220126, 21.976016497079605, 20.589931729351104, 23.151002319932957, 22.193168061704746, 20.718937610740934, 23.88671127424383, 22.828313162707893, 24.759470921701308, 23.43116405762786, 23.674910714308396, 24.11305863555218, 22.21207939100477, 23.422243292176432, 23.634175840806982, 22.901367760366238, 22.819229521200686, 25.53769988836379, 25.11868487983551, 22.74602475799805, 21.890405523845196, 28.49568262511149, 28.84087580123013, 27.74093060417328, 28.081558460041922, 29.19444595399085, 28.930071957617994, 28.97473857523039, 28.157210249132408, 28.300486522581462, 29.77911194589263, 30.66833993096811, 28.759935445244157, 29.670191648842163, 28.66024198824045, 32.647693346688854, 32.12958069069828, 32.15075954738038, 31.81981215154784, 33.31353239620544, 32.17993747334221, 31.449011168652564, 22.14397276190478, 23.469050360509556, 21.41775683090218, 22.34562581263578, 21.1922495328695, 23.105468126561888, 22.393759429329982, 20.755521059597907, 22.19905488899664, 21.742126520409016, 20.265694835958104, 21.467459196170914, 22.575989298176204, 22.21669059292817, 22.877524376893433, 21.441738192760543, 19.73963411739638, 20.405226906697955, 21.82461530341945, 22.35552916763255, 21.849332883201228, 21.529672284298968, 21.395488841424175, 21.83148534742621, 24.06285340659606, 19.99731640877973, 20.836012802897088, 20.857516181835933, 21.459588277828658, 21.415682915699456, 19.88317847560514, 18.3578345435453, 20.44488543868265, 19.584438185620517, 21.04323005198339, 21.240420356448634, 20.777414776875965, 22.016926008636624, 22.161961015481463, 19.04042376997235, 19.38042876618295, 20.237105880102945, 20.176402535926638, 19.481545792476815, 19.522717568766105, 19.237938220394668, 18.663376559415763, 21.275359269803317, 19.963260070242583, 18.86668857509612, 20.2811385071234, 19.440747516819215, 20.01734415986734, 19.365112248311796, 19.493203562833653, 19.06141372731311, 20.785060003957078, 17.744143635683244, 20.60024426626206, 18.336854654545263, 18.796140242207592, 18.809172305307868, 21.740746660643556, 19.56028331355606, 19.478078790411114, 19.702434948607486, 21.56329451448289, 19.16332275790734, 19.38562762013505, 20.384828694873285, 19.096371467537367, 21.00312383731022, 20.002955105360535, 20.67430673391739, 19.88798859792543, 20.12855947644585, 20.95722602237806, 20.93821908259081, 20.788189903453077, 19.609650040832953, 20.38428828288805, 21.014553806482176, 22.245622595590767, 20.711298723575492, 22.49835675374243, 20.42529625081513]\n"
     ]
    }
   ],
   "source": [
    "print(data[0:150])"
   ]
  },
  {
   "cell_type": "code",
   "execution_count": null,
   "metadata": {},
   "outputs": [],
   "source": []
  }
 ],
 "metadata": {
  "kernelspec": {
   "display_name": "Python 3",
   "language": "python",
   "name": "python3"
  },
  "language_info": {
   "codemirror_mode": {
    "name": "ipython",
    "version": 3
   },
   "file_extension": ".py",
   "mimetype": "text/x-python",
   "name": "python",
   "nbconvert_exporter": "python",
   "pygments_lexer": "ipython3",
   "version": "3.8.5"
  }
 },
 "nbformat": 4,
 "nbformat_minor": 4
}
